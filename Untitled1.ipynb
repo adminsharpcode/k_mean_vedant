{
 "cells": [
  {
   "cell_type": "code",
   "execution_count": 3,
   "id": "768b6ca7",
   "metadata": {},
   "outputs": [],
   "source": [
    "def AGECHECKER():\n",
    " name = [\"Vedant\", \"maithili\", \"atharva\", \"XD\", \"LOL\", \"ROLF\"]\n",
    " Age = [17, 20, 21, 24, 56, 10]\n",
    "\n",
    " counter = 0\n",
    " i = 0\n",
    "\n",
    " while counter!=0:\n",
    "    if Age[i]%2==0:\n",
    "        print(f\"{name[i]} has {Age[i]} and is not prime\")\n",
    "        counter = counter + 1\n",
    "        Age = Age + 1\n",
    "    elif Age[i]%3==0:\n",
    "        print(f\"{name[i]} has {Age[i]} and is not prime\")\n",
    "        counter = counter + 1\n",
    "        Age = Age + 1\n",
    "    elif Age[i]%5==0:\n",
    "        print(f\"{name[i]} has {Age[i]} and is not prime\")\n",
    "        counter = counter + 1\n",
    "        Age = Age + 1\n",
    "    elif Age[i]%7==0:\n",
    "        counter = counter + 1\n",
    "        print(f\"{name[i]} has {Age[i]} and is not prime\")\n",
    "        counter = counter + 1\n",
    "        Age = Age + 1\n",
    "    elif Age[i]%9==0:\n",
    "        print(f\"{name[i]} has {Age[i]} and is not prime\")\n",
    "        counter = counter + 1\n",
    "        Age = Age + 1\n",
    "    else :\n",
    "        print(f\"{name[i]} has {Age[i]} and is prime\")\n",
    "        counter = counter + 1\n",
    "        Age = Age + 1\n",
    "\n",
    "AGECHECKER()\n",
    "\n"
   ]
  },
  {
   "cell_type": "code",
   "execution_count": null,
   "id": "d771a611",
   "metadata": {},
   "outputs": [],
   "source": []
  }
 ],
 "metadata": {
  "kernelspec": {
   "display_name": "Python 3 (ipykernel)",
   "language": "python",
   "name": "python3"
  },
  "language_info": {
   "codemirror_mode": {
    "name": "ipython",
    "version": 3
   },
   "file_extension": ".py",
   "mimetype": "text/x-python",
   "name": "python",
   "nbconvert_exporter": "python",
   "pygments_lexer": "ipython3",
   "version": "3.11.4"
  }
 },
 "nbformat": 4,
 "nbformat_minor": 5
}
