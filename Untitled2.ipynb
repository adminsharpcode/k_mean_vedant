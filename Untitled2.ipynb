{
 "cells": [
  {
   "cell_type": "code",
   "execution_count": 3,
   "id": "8c3b3fcf",
   "metadata": {},
   "outputs": [
    {
     "ename": "IndentationError",
     "evalue": "unexpected indent (1557939554.py, line 4)",
     "output_type": "error",
     "traceback": [
      "\u001b[1;36m  Cell \u001b[1;32mIn[3], line 4\u001b[1;36m\u001b[0m\n\u001b[1;33m    counter = 0\u001b[0m\n\u001b[1;37m    ^\u001b[0m\n\u001b[1;31mIndentationError\u001b[0m\u001b[1;31m:\u001b[0m unexpected indent\n"
     ]
    }
   ],
   "source": [
    "def surname():\n",
    " name = [\"Vedant\", \"maithili\", \"atharva\", \"XD\", \"LOL\", \"ROLF\"]\n",
    " surname = [\"Nimkar\", \"Nimkar\", \"Pawar\", \"HEHE\", \"HEHE\", \"SUUUUUUU\"]\n",
    "    counter = 0\n",
    "    i = 0\n",
    "    while counter!=0\n",
    "        if\n",
    "        for j in range [5] surname[i]!=surname[i+j]:\n",
    "            print(i)\n",
    "            print(\"surname matched\")\n",
    "            counter = counter + 1\n",
    "            i = i + 1\n",
    "        else\n",
    "            print(\"surname is not matched\")\n",
    "            counter = counter +1\n",
    "            i = i + 1\n",
    "            \n",
    "surname()"
   ]
  },
  {
   "cell_type": "code",
   "execution_count": null,
   "id": "0b312a4d",
   "metadata": {},
   "outputs": [],
   "source": []
  },
  {
   "cell_type": "code",
   "execution_count": null,
   "id": "1ad8b078",
   "metadata": {},
   "outputs": [],
   "source": []
  }
 ],
 "metadata": {
  "kernelspec": {
   "display_name": "Python 3 (ipykernel)",
   "language": "python",
   "name": "python3"
  },
  "language_info": {
   "codemirror_mode": {
    "name": "ipython",
    "version": 3
   },
   "file_extension": ".py",
   "mimetype": "text/x-python",
   "name": "python",
   "nbconvert_exporter": "python",
   "pygments_lexer": "ipython3",
   "version": "3.11.4"
  }
 },
 "nbformat": 4,
 "nbformat_minor": 5
}
